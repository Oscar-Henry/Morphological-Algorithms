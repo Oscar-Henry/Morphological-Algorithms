{
 "cells": [
  {
   "cell_type": "code",
   "execution_count": 1,
   "metadata": {},
   "outputs": [],
   "source": [
    "import numpy as np\n",
    "import random"
   ]
  },
  {
   "cell_type": "code",
   "execution_count": 2,
   "metadata": {},
   "outputs": [],
   "source": [
    "#Initialisation for the different algorithms:\n",
    "barcode1 = np.array([[0, 100.], [1.37, 94.2], [5.80, 86.], [18., 83.75], [42., 60.]])      # 24 permutations (1234)\n",
    "barcode2 = np.array([[0., 10.], [1., 8.], [2, 9.], [3., 7.]])      # 3 permutations (213)\n",
    "barcode3 = np.array([[0., 10.], [1., 9.], [2., 8.], [3., 7.], [4., 6.]])        # 24 perutations (1234)\n",
    "barcodeE = np.array([[0., 10.], [9., 1.], [6., 5.], [5., 11.]])\n",
    "\n",
    "#Choose your barcode:\n",
    "barcode = barcode3\n",
    "barcode_size = int(barcode.size/2)"
   ]
  },
  {
   "cell_type": "code",
   "execution_count": 3,
   "metadata": {},
   "outputs": [
    {
     "name": "stdout",
     "output_type": "stream",
     "text": [
      "Tests: passed\n"
     ]
    }
   ],
   "source": [
    "#Tests:\n",
    "error1 = 0; error2 = 0; error3 = 0\n",
    "\n",
    "for n in range(barcode_size):\n",
    "    if barcode[n][0] > barcode[n][1]:\n",
    "        print (\"error1: birth need to be lower than death\")\n",
    "        error1 = 1\n",
    "    \n",
    "for n in range(barcode_size - 1):\n",
    "    if barcode[n][0] > barcode[n+1][0]:\n",
    "        print(\"error2: we need a sorted by birth barcode.\")\n",
    "        error2 = 1\n",
    "\n",
    "for n in range(barcode_size - 1):\n",
    "    if barcode[n+1][1] > barcode[0][1]:\n",
    "        print(\"error3: the first bar must contains all the others\")\n",
    "        error3 = 1\n",
    "\n",
    "if error1 == 0 and error2 == 0 and error3 == 0 :\n",
    "    print (\"Tests: passed\")    "
   ]
  },
  {
   "cell_type": "code",
   "execution_count": 4,
   "metadata": {},
   "outputs": [],
   "source": [
    "#Auto initialisation with in function of what was token:\n",
    "finit_support = barcode[0][1] - barcode[0][0]         #lifetime of bar 0.\n",
    "proba = np.linspace(0, 0, barcode_size-1)             #list of all probabilities for each line (equi).\n",
    "permutation_number = 1                                #Number of possible permutations for a barcode.\n",
    "eq_group = np.linspace(0, 0, barcode_size-1)             #equivalente class.  "
   ]
  },
  {
   "cell_type": "code",
   "execution_count": 5,
   "metadata": {},
   "outputs": [],
   "source": [
    "#Permutation Number:\n",
    "for i in range(barcode_size)[1:]:\n",
    "    for j in range(barcode_size)[:i]:\n",
    "        if barcode[j][1] > barcode[i][1]:\n",
    "            eq_group[i-1] += 1\n",
    "    permutation_number *= eq_group[i-1]\n",
    "    \n",
    "#Equivalent Class:\n",
    "for i in range(barcode_size - 1):\n",
    "    eq_group[i] = eq_group[i] - (i+1)        #To know which of them are already in the right order.\n",
    "clock = 1\n",
    "while(clock < barcode_size):\n",
    "    min = 1000\n",
    "    memory = 0\n",
    "    for j in range(barcode_size - 1):\n",
    "        if eq_group[j] < min:\n",
    "            min = eq_group[j]\n",
    "            memory = j\n",
    "    eq_group[memory] = clock\n",
    "    clock += 1"
   ]
  },
  {
   "cell_type": "code",
   "execution_count": 6,
   "metadata": {},
   "outputs": [
    {
     "name": "stdout",
     "output_type": "stream",
     "text": [
      "The number of permutations for this barcode is :  24\n",
      "The equivalence class of this barcode is : ( [1. 2. 3. 4.] ). \n",
      "\n"
     ]
    }
   ],
   "source": [
    "print(\"The number of permutations for this barcode is : \", int(permutation_number))\n",
    "print(\"The equivalence class of this barcode is : (\", eq_group, \"). \\n\")"
   ]
  }
 ],
 "metadata": {
  "kernelspec": {
   "display_name": "Python 3",
   "language": "python",
   "name": "python3"
  },
  "language_info": {
   "codemirror_mode": {
    "name": "ipython",
    "version": 3
   },
   "file_extension": ".py",
   "mimetype": "text/x-python",
   "name": "python",
   "nbconvert_exporter": "python",
   "pygments_lexer": "ipython3",
   "version": "3.8.5"
  }
 },
 "nbformat": 4,
 "nbformat_minor": 4
}
