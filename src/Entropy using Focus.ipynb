{
 "cells": [
  {
   "cell_type": "code",
   "execution_count": 251,
   "metadata": {},
   "outputs": [],
   "source": [
    "import numpy as np\n",
    "import matplotlib.pyplot as plt\n",
    "import random\n",
    "import math"
   ]
  },
  {
   "cell_type": "code",
   "execution_count": 252,
   "metadata": {
    "jupyter": {
     "source_hidden": true
    }
   },
   "outputs": [],
   "source": [
    "#Initialisation for the different algorithms:\n",
    "barcode1 = np.array([[0, 100.], [1.37, 94.2], [5.80, 86.], [18., 83.75], [42., 60.]])      # 24 permutations (1234)\n",
    "barcode2 = np.array([[0., 10.], [1., 8.], [2, 9.], [3., 7.]])      # 3 permutations (213)\n",
    "barcode3 = np.array([[0., 10.], [1., 9.], [2., 8.], [3., 7.], [4., 6.]])        # 24 permutations (1234)\n",
    "barcode4 = np.array([[0., 100.], [1.37, 94.2], [5.80, 86.], [9.75, 85.], [18., 83.75], [42., 60.]])       #120 permutations (12345)\n",
    "barcodeE = np.array([[0., 10.], [9., 1.], [6., 5.], [5., 11.]])\n",
    "\n",
    "#Choose your barcode:\n",
    "barcode = barcode4\n",
    "barcode_size = int(barcode.size/2)"
   ]
  },
  {
   "cell_type": "code",
   "execution_count": 253,
   "metadata": {
    "jupyter": {
     "outputs_hidden": true,
     "source_hidden": true
    }
   },
   "outputs": [
    {
     "name": "stdout",
     "output_type": "stream",
     "text": [
      "Tests: passed\n"
     ]
    }
   ],
   "source": [
    "#Tests:\n",
    "error1 = 0; error2 = 0; error3 = 0\n",
    "\n",
    "for n in range(barcode_size):\n",
    "    if barcode[n][0] > barcode[n][1]:\n",
    "        print (\"error1: birth need to be lower than death\")\n",
    "        error1 = 1\n",
    "    \n",
    "for n in range(barcode_size - 1):\n",
    "    if barcode[n][0] > barcode[n+1][0]:\n",
    "        print(\"error2: we need a sorted by birth barcode.\")\n",
    "        error2 = 1\n",
    "\n",
    "for n in range(barcode_size - 1):\n",
    "    if barcode[n+1][1] > barcode[0][1]:\n",
    "        print(\"error3: the first bar must contains all the others\")\n",
    "        error3 = 1\n",
    "\n",
    "if error1 == 0 and error2 == 0 and error3 == 0 :\n",
    "    print (\"Tests: passed\")    "
   ]
  },
  {
   "cell_type": "code",
   "execution_count": 254,
   "metadata": {
    "jupyter": {
     "source_hidden": true
    }
   },
   "outputs": [],
   "source": [
    "#Auto initialisation with in function of what was token:\n",
    "matrix_adj = np.zeros((barcode_size, barcode_size))     #empty matrix.\n",
    "matrix_pb = np.zeros((barcode_size, barcode_size))     #empty matrix.\n",
    "matrix_real = np.zeros((barcode_size, barcode_size))    #empty matrix.\n",
    "matrix_fr = np.zeros((barcode_size, barcode_size))    #empty matrix.\n",
    "TAM_min = np.zeros((barcode_size, barcode_size))\n",
    "TAM_max = np.zeros((barcode_size, barcode_size))\n",
    "\n",
    "permutation_number = 1                                #Number of possible permutations for a barcode.\n",
    "index = np.linspace(0, 0, barcode_size-1)    \n",
    "proba = np.linspace(0, 0, barcode_size-1)             #list of all probabilities for each line (equi).\n",
    "finit_support = np.zeros(barcode_size)                  #lifetimes\n",
    "for i in range(barcode_size):\n",
    "    finit_support[i] += barcode[i][1] - barcode[i][0] \n",
    "Number = 1000\n",
    "vector_fr2 = []\n",
    "H_min = 1000000.\n",
    "H_max = -1"
   ]
  },
  {
   "cell_type": "code",
   "execution_count": 255,
   "metadata": {
    "jupyter": {
     "source_hidden": true
    }
   },
   "outputs": [],
   "source": [
    "#Permutation Number:\n",
    "for i in range(barcode_size)[1:]:\n",
    "    for j in range(barcode_size)[:i]:\n",
    "        if barcode[j][1] > barcode[i][1]:\n",
    "            index[i-1] += 1\n",
    "    permutation_number *= index[i-1]\n",
    "    \n",
    "#Equivalent Class:\n",
    "for i in range(barcode_size - 1):\n",
    "    index[i] = index[i] - (i+1)        #To know which of them are already in the right order.\n",
    "clock = 1\n",
    "while(clock < barcode_size):\n",
    "    min = 1000\n",
    "    memory = 0\n",
    "    for j in range(barcode_size - 1):\n",
    "        if index[j] < min:\n",
    "            min = index[j]\n",
    "            memory = j\n",
    "    index[memory] = clock\n",
    "    clock += 1"
   ]
  },
  {
   "cell_type": "code",
   "execution_count": 256,
   "metadata": {
    "jupyter": {
     "source_hidden": true
    }
   },
   "outputs": [],
   "source": [
    "#Matrix initialisation:\n",
    "\n",
    "#Probability Matrix:\n",
    "for i in range(barcode_size):\n",
    "    for j in range(barcode_size)[i+1:]:\n",
    "        if barcode[i][1] > barcode[j][1]:\n",
    "            matrix_pb[j][i] = 1\n",
    "for x in range(barcode_size)[1:]:\n",
    "    clock = 0\n",
    "    for y in range(barcode_size)[:x]:\n",
    "        clock += matrix_pb[x][y]             #number of 1 on a single line\n",
    "    probability = 1./clock                   #normalisation for equiprobability\n",
    "    for z in range(barcode_size)[:x]:\n",
    "        if matrix_pb[x][z] == 1:\n",
    "            matrix_pb[x][z] = probability\n",
    "\n",
    "#Adjacency Matrix:\n",
    "for k in range(barcode_size):\n",
    "    matrix_adj[k][k] = barcode[k][0]             \n",
    "for l in range(barcode_size):\n",
    "    for m in range(barcode_size)[l+1:]:\n",
    "        if barcode[l][1] > barcode[m][1]:\n",
    "            matrix_adj[m][l] = barcode[m][1]"
   ]
  },
  {
   "cell_type": "code",
   "execution_count": 259,
   "metadata": {
    "scrolled": false
   },
   "outputs": [
    {
     "name": "stdout",
     "output_type": "stream",
     "text": [
      "The frequency of each tree persistent entropy of 1000 tree-realizations is : \n",
      "\n",
      "[[0.0, 0.009], [0.217, 0.094], [0.292, 0.32], [0.413, 0.136], [0.458, 0.327], [0.579, 0.105], [0.699, 0.009]] \n",
      "\n"
     ]
    }
   ],
   "source": [
    "#Possible realisation\n",
    "vector_fr2 = []\n",
    "for n in range(Number):\n",
    "    #Real Matrix\n",
    "    for k in range(barcode_size):\n",
    "        matrix_real[k][k] = matrix_adj[k][k]   \n",
    "    for i in range(barcode_size)[1:]:\n",
    "        clock = 0\n",
    "        for j in range(barcode_size)[:i]:\n",
    "            if matrix_pb[i][j] != 0:\n",
    "                clock += 1\n",
    "        if clock != 0:\n",
    "            probability = 1./clock\n",
    "        else:\n",
    "            probability = 0.\n",
    "        proba[i-1] = probability\n",
    "        complete = False\n",
    "        nbr = random.random()\n",
    "        for j in range(barcode_size)[:i]:\n",
    "            if (nbr < ((j+1)*proba[i-1]) and (not complete)):\n",
    "                matrix_real[i][j] = matrix_adj[i][j]\n",
    "                complete = True\n",
    "            else:\n",
    "                matrix_real[i][j] = 0\n",
    "    focus_index = np.zeros(barcode_size-1)\n",
    "    for a in range(barcode_size)[:-1]:\n",
    "        for b in range(barcode_size)[a+1:]:\n",
    "            if matrix_real[b][a] != 0:\n",
    "                if a != 0:\n",
    "                    focus_index[b-1] +=  1. + focus_index[a-1]\n",
    "                else:\n",
    "                    focus_index[b-1] += 1.\n",
    "    \n",
    "    vector_fr = []\n",
    "    H = 0.\n",
    "    \n",
    "    for c in range(barcode_size-1):\n",
    "        find = False\n",
    "        if len(vector_fr) == 0:\n",
    "            vector_fr += [[focus_index[c], 1]]\n",
    "            find = True\n",
    "        else:\n",
    "            for i in range(int(len(vector_fr))):\n",
    "                if int(focus_index[c]) == vector_fr[i][0] and not find:\n",
    "                    vector_fr[i][1] += 1\n",
    "                    find = True\n",
    "        if not find:\n",
    "            vector_fr += [[focus_index[c], 1]]   \n",
    "    for j in range(int(len(vector_fr))):\n",
    "        vector_fr[j][1] *= (1/int(len(focus_index)))\n",
    "        vector_fr[j][1] = round(vector_fr[j][1], 3)\n",
    "        \n",
    "    for k in range(int(len(vector_fr))):\n",
    "        H += vector_fr[k][1] * math.log(vector_fr[k][1], 10)\n",
    "    if H < 0.:\n",
    "        H = -round(H, 3)\n",
    "\n",
    "    find2 = False\n",
    "    if len(vector_fr2) == 0:\n",
    "        vector_fr2 += [[H, 1]]\n",
    "        find2 = True\n",
    "    else:\n",
    "        for l in range(int(len(vector_fr2))):\n",
    "            if H == vector_fr2[l][0] and not find2:\n",
    "                vector_fr2[l][1] += 1\n",
    "                find2 = True\n",
    "    if not find2:\n",
    "        vector_fr2 += [[H, 1]]\n",
    "\n",
    "for e in range(int(len(vector_fr2))):\n",
    "    if vector_fr2[e][1] != 0:\n",
    "        vector_fr2[e][1] = (vector_fr2[e][1]/Number)\n",
    "        vector_fr2[e][1] = round(vector_fr2[e][1], 5)   \n",
    "        \n",
    "vector_fr2 = sorted(vector_fr2, key=lambda Fvalue: Fvalue[0])\n",
    "if vector_fr2[int(len(vector_fr2))-1][0] != (round(-math.log(0.2, 10), 3)):\n",
    "    vector_fr2 += [[round(-math.log(0.2, 10), 3), 0]]\n",
    "if vector_fr2[0][0] != 0.:\n",
    "    vector_fr2 += [[0., 0]]\n",
    "vector_fr2 = sorted(vector_fr2, key=lambda Fvalue: Fvalue[0])\n",
    "\n",
    "print(\"The frequency of each tree persistent entropy of\", Number, \"tree-realizations is : \\n\")\n",
    "print(vector_fr2, \"\\n\")"
   ]
  },
  {
   "cell_type": "code",
   "execution_count": 260,
   "metadata": {},
   "outputs": [
    {
     "data": {
      "image/png": "[encoded data removed]",
      "text/plain": [
       "<Figure size 432x288 with 1 Axes>"
      ]
     },
     "metadata": {
      "needs_background": "light"
     },
     "output_type": "display_data"
    }
   ],
   "source": [
    "x = []\n",
    "y = []\n",
    "for row in vector_fr2:\n",
    "    x.append(row[0])\n",
    "    y.append(row[1])\n",
    "\n",
    "i = 0\n",
    "fr_max = 0.\n",
    "for v in range(int(len(vector_fr2))):\n",
    "    if vector_fr2[v][1] > fr_max:\n",
    "        i = v\n",
    "        fr_max = vector_fr2[v][1]\n",
    "    \n",
    "fig, ax = plt.subplots()\n",
    "title = 'Entropy density function over' + str(Number) + ' matrices'\n",
    "coor = \"(\" + str(vector_fr2[i][0]) + \" , \" + str(vector_fr2[i][1]) + \")\"\n",
    "plt.plot(x, y)\n",
    "plt.scatter(vector_fr2[i][0], vector_fr2[i][1], c = 'r')\n",
    "plt.text(vector_fr2[i][0]+0.05, vector_fr2[i][1], coor)\n",
    "ax.set_xlabel('Entropy value', fontsize=8)\n",
    "ax.set_ylabel('Entropy density', fontsize=8)\n",
    "ax.set_title(title , fontsize = 10)\n",
    "ax.grid(True)\n",
    "plt.show()"
   ]
  },
  {
   "cell_type": "code",
   "execution_count": null,
   "metadata": {},
   "outputs": [],
   "source": []
  }
 ],
 "metadata": {
  "kernelspec": {
   "display_name": "Python 3",
   "language": "python",
   "name": "python3"
  }
 },
 "nbformat": 4,
 "nbformat_minor": 4
}
