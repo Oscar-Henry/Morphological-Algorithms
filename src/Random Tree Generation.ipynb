{
 "cells": [
  {
   "cell_type": "code",
   "execution_count": 1,
   "metadata": {},
   "outputs": [],
   "source": [
    "import numpy as np\n",
    "import random"
   ]
  },
  {
   "cell_type": "code",
   "execution_count": 2,
   "metadata": {},
   "outputs": [],
   "source": [
    "#Initialisation for the different algorithms:\n",
    "barcode1 = np.array([[0, 100.], [1.37, 94.2], [5.80, 86.], [18., 83.75], [42., 60.]])      # 24 permutations (1234)\n",
    "barcode2 = np.array([[0., 100.], [1.37, 86.], [5.80, 94.2], [18., 83.75]])      # 3 permutations (213)\n",
    "barcode3 = np.array([[0., 10.], [1., 9.], [2., 8.], [3., 7.], [4., 6.]])        # 24 perutations (1234)\n",
    "barcodeE = np.array([[0., 10.], [9., 1.], [6., 5.], [5., 11.]])\n",
    "\n",
    "#Choose your barcode:\n",
    "barcode = barcode3\n",
    "barcode_size = int(barcode.size/2)"
   ]
  },
  {
   "cell_type": "code",
   "execution_count": 3,
   "metadata": {},
   "outputs": [
    {
     "name": "stdout",
     "output_type": "stream",
     "text": [
      "Tests: passed\n"
     ]
    }
   ],
   "source": [
    "#Tests:\n",
    "error1 = 0; error2 = 0; error3 = 0\n",
    "\n",
    "for n in range(barcode_size):\n",
    "    if barcode[n][0] > barcode[n][1]:\n",
    "        print (\"error1: birth need to be lower than death\")\n",
    "        error1 = 1\n",
    "    \n",
    "for n in range(barcode_size - 1):\n",
    "    if barcode[n][0] > barcode[n+1][0]:\n",
    "        print(\"error2: we need a sorted by birth barcode.\")\n",
    "        error2 = 1\n",
    "\n",
    "for n in range(barcode_size - 1):\n",
    "    if barcode[n+1][1] > barcode[0][1]:\n",
    "        print(\"error3: the first bar must contains all the others\")\n",
    "        error3 = 1\n",
    "\n",
    "if error1 == 0 and error2 == 0 and error3 == 0 :\n",
    "    print (\"Tests: passed\")    "
   ]
  },
  {
   "cell_type": "code",
   "execution_count": 4,
   "metadata": {},
   "outputs": [],
   "source": [
    "#Auto initialisation with in function of what was token:\n",
    "matrix_adj = np.zeros((barcode_size, barcode_size))     #empty matrix.\n",
    "matrix_pb = np.zeros((barcode_size, barcode_size))     #empty matrix.\n",
    "matrix_real = np.zeros((barcode_size, barcode_size))    #empty matrix.\n",
    "matrix_fr = np.zeros((barcode_size, barcode_size))    #empty matrix.\n",
    "\n",
    "finit_support = barcode[0][1] - barcode[0][0]         #lifetime of bar 0.\n",
    "proba = np.linspace(0, 0, barcode_size-1)             #list of all probabilities for each line (equi).\n",
    "permutation_number = 1                                #Number of possible permutations for a barcode.\n",
    "index = np.linspace(0, 0, barcode_size-1)             #equivalente class."
   ]
  },
  {
   "cell_type": "code",
   "execution_count": 5,
   "metadata": {},
   "outputs": [],
   "source": [
    "#Permutation Number:\n",
    "for i in range(barcode_size)[1:]:\n",
    "    for j in range(barcode_size)[:i]:\n",
    "        if barcode[j][1] > barcode[i][1]:\n",
    "            index[i-1] += 1\n",
    "    permutation_number *= index[i-1]\n",
    "    \n",
    "#Equivalent Class:\n",
    "for i in range(barcode_size - 1):\n",
    "    index[i] = index[i] - (i+1)        #To know which of them are already in the right order.\n",
    "clock = 1\n",
    "while(clock < barcode_size):\n",
    "    min = 1000\n",
    "    memory = 0\n",
    "    for j in range(barcode_size - 1):\n",
    "        if index[j] < min:\n",
    "            min = index[j]\n",
    "            memory = j\n",
    "    index[memory] = clock\n",
    "    clock += 1"
   ]
  },
  {
   "cell_type": "code",
   "execution_count": 6,
   "metadata": {},
   "outputs": [],
   "source": [
    "#Matrix initialisation:\n",
    "\n",
    "#Probability Matrix:\n",
    "for i in range(barcode_size):\n",
    "    for j in range(barcode_size)[i+1:]:\n",
    "        if barcode[i][1] > barcode[j][1]:\n",
    "            matrix_pb[j][i] = 1\n",
    "for x in range(barcode_size)[1:]:\n",
    "    clock = 0\n",
    "    for y in range(barcode_size)[:x]:\n",
    "        clock += matrix_pb[x][y]             #number of 1 on a single line\n",
    "    probability = 1./clock                   #normalisation for equiprobability\n",
    "    for z in range(barcode_size)[:x]:\n",
    "        if matrix_pb[x][z] == 1:\n",
    "            matrix_pb[x][z] = probability\n",
    "\n",
    "#Adjacency Matrix:\n",
    "for k in range(barcode_size):\n",
    "    matrix_adj[k][k] = barcode[k][0]             \n",
    "for l in range(barcode_size):\n",
    "    for m in range(barcode_size)[l+1:]:\n",
    "        if barcode[l][1] > barcode[m][1]:\n",
    "            matrix_adj[m][l] = barcode[m][1]\n"
   ]
  },
  {
   "cell_type": "code",
   "execution_count": 8,
   "metadata": {},
   "outputs": [
    {
     "name": "stdout",
     "output_type": "stream",
     "text": [
      "All possible matrices are in the form: \n",
      " [[0. 0. 0. 0. 0.]\n",
      " [9. 1. 0. 0. 0.]\n",
      " [8. 8. 2. 0. 0.]\n",
      " [7. 7. 7. 3. 0.]\n",
      " [6. 6. 6. 6. 4.]] \n",
      "\n",
      "The last matrix realised was: \n",
      " [[0. 0. 0. 0. 0.]\n",
      " [9. 1. 0. 0. 0.]\n",
      " [0. 8. 2. 0. 0.]\n",
      " [0. 0. 7. 3. 0.]\n",
      " [6. 0. 0. 0. 4.]] \n",
      "\n",
      "The Probability matrix is: \n",
      " [[0.         0.         0.         0.         0.        ]\n",
      " [1.         0.         0.         0.         0.        ]\n",
      " [0.5        0.5        0.         0.         0.        ]\n",
      " [0.33333333 0.33333333 0.33333333 0.         0.        ]\n",
      " [0.25       0.25       0.25       0.25       0.        ]] \n",
      "\n",
      "The Frequency matrix over 1000 realisations is: \n",
      " [[0.         0.         0.         0.         0.        ]\n",
      " [1.         0.         0.         0.         0.        ]\n",
      " [0.480005   0.519995   0.         0.         0.        ]\n",
      " [0.33797403 0.36098202 0.30104396 0.         0.        ]\n",
      " [0.27396004 0.268001   0.23001998 0.22801898 0.        ]] \n",
      "\n"
     ]
    }
   ],
   "source": [
    "#Possible realisation\n",
    "for n in range(1000):\n",
    "    #Real Matrix\n",
    "    for k in range(barcode_size):\n",
    "        matrix_real[k][k] = matrix_adj[k][k]   \n",
    "    for i in range(barcode_size)[1:]:\n",
    "        clock = 0\n",
    "        for j in range(barcode_size)[:i]:\n",
    "            if matrix_pb[i][j] != 0:\n",
    "                clock += 1\n",
    "        if clock != 0:\n",
    "            probability = 1./clock\n",
    "        else:\n",
    "            probability = 0.\n",
    "        proba[i-1] = probability\n",
    "        complete = False\n",
    "        nbr = random.random()\n",
    "        for j in range(barcode_size)[:i]:\n",
    "            if (nbr < ((j+1)*proba[i-1]) and (not complete)):\n",
    "                matrix_real[i][j] = matrix_adj[i][j]\n",
    "                complete = True\n",
    "            else:\n",
    "                matrix_real[i][j] = 0\n",
    "    for o in range(barcode_size)[1:]:\n",
    "        for p in range(barcode_size)[:o]:\n",
    "            if matrix_real[o][p] != 0:\n",
    "                matrix_fr[o][p] += 1\n",
    "\n",
    "#Normalisation of frequency matrix:\n",
    "for i in range(barcode_size)[1:]:\n",
    "    sum = 0\n",
    "    for j in range(barcode_size)[:i]:\n",
    "        sum += matrix_fr[i][j]\n",
    "    for j in range(barcode_size)[:i]:\n",
    "        matrix_fr[i][j] = matrix_fr[i][j]/sum\n",
    "\n",
    "print(\"All possible matrices are in the form: \\n\", matrix_adj, \"\\n\")\n",
    "print(\"The last matrix realised was: \\n\", matrix_real, \"\\n\")\n",
    "print(\"The Probability matrix is: \\n\", matrix_pb, \"\\n\")\n",
    "print(\"The Frequency matrix over 1000 realisations is: \\n\", matrix_fr, \"\\n\")"
   ]
  }
 ],
 "metadata": {
  "kernelspec": {
   "display_name": "Python 3",
   "language": "python",
   "name": "python3"
  },
  "language_info": {
   "codemirror_mode": {
    "name": "ipython",
    "version": 3
   },
   "file_extension": ".py",
   "mimetype": "text/x-python",
   "name": "python",
   "nbconvert_exporter": "python",
   "pygments_lexer": "ipython3",
   "version": "3.8.5"
  }
 },
 "nbformat": 4,
 "nbformat_minor": 4
}
